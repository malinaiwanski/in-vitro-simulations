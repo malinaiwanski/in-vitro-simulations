{
 "cells": [
  {
   "cell_type": "markdown",
   "metadata": {},
   "source": [
    "### Gillespie algorithm for simulating kinesin walking on microtubules in vitro\n",
    "MK Iwanski 2020-04-07"
   ]
  },
  {
   "cell_type": "code",
   "execution_count": 1,
   "metadata": {},
   "outputs": [],
   "source": [
    "# imports\n",
    "%matplotlib inline\n",
    "import matplotlib.pyplot as plt\n",
    "import numpy as np"
   ]
  },
  {
   "cell_type": "code",
   "execution_count": 2,
   "metadata": {},
   "outputs": [],
   "source": [
    "# function for debugging\n",
    "def pause():\n",
    "    programPause = raw_input(\"Press <ENTER> to continue.\")"
   ]
  },
  {
   "cell_type": "code",
   "execution_count": 3,
   "metadata": {},
   "outputs": [],
   "source": [
    "# parameters\n",
    "mt_length = 100\n",
    "nstep = 10**4\n",
    "\n",
    "#rates of reactions\n",
    "k_fwd = 0.01 #steps per sec\n",
    "k_bck = 0 #steps per sec\n",
    "k_on = 0.002 #per dimer per sec\n",
    "k_off = 0.3 #per sec\n",
    "\n",
    "#update vectors for each reaction\n",
    "nu_fwd = -1\n",
    "nu_bck = -1\n",
    "nu_on = 1\n",
    "nu_off = -1\n",
    "\n",
    "#update affinities of mt sites\n",
    "alpha_max = 0.0001 #change in k_on at site of motor\n",
    "#TO DO: assume this drops exponentially with number of sites away from motor and with time"
   ]
  },
  {
   "cell_type": "code",
   "execution_count": 11,
   "metadata": {},
   "outputs": [],
   "source": [
    "def gillespie(X, t, m): #update time and state vectors (mt and affinity at site m)\n",
    "   \n",
    "    #generate random numbers\n",
    "    rt = np.random.random()\n",
    "    rr = np.random.random()\n",
    "    \n",
    "    #time to next reaction\n",
    "    tau = np.log(1/rt)/k_tot\n",
    "    \n",
    "    #determine which reaction\n",
    "    j = 0\n",
    "    test = k[0]/k_tot\n",
    "    while test < rr and j < len(k)-1:\n",
    "        t += k[j]/k_tot\n",
    "        j += 1\n",
    "\n",
    "    t += tau #update time\n",
    "    X[m] += nu[j] #update state\n",
    "    if m < mt_length-1 and X[m+1] == 0 and j == 0:\n",
    "        X[m+1] -= nu[j] #update state of +1 site for forward step\n",
    "    if m >  0 and X[m-1] == 0 and j == 1:\n",
    "         X[m-1] -= nu[j] #update state of -1 site for back step\n",
    "    \n",
    "    return X, t"
   ]
  },
  {
   "cell_type": "code",
   "execution_count": 12,
   "metadata": {},
   "outputs": [],
   "source": [
    "def affinity_update(aff, X): #update affinity based on motor positions\n",
    "    aff[X==1] = alpha_max #update affinity\n",
    "    motors = np.where(X==1)\n",
    "    for motor_loc in motors:\n",
    "        for j in range(0,mt_length):\n",
    "            while motor_loc+j<mt_length-1:\n",
    "                aff[motor_loc+j] = alpha_max*np.exp(-j)\n",
    "            while motor_loc-j>=0:\n",
    "                aff[motor_loc-j] = alpha_max*np.exp(-j)\n",
    "    #add to update of surrounding sites\n",
    "    aff[aff<0] = k_on\n",
    "    return aff"
   ]
  },
  {
   "cell_type": "code",
   "execution_count": 13,
   "metadata": {},
   "outputs": [
    {
     "name": "stderr",
     "output_type": "stream",
     "text": [
      "/opt/anaconda3/lib/python3.7/site-packages/ipykernel_launcher.py:6: DeprecationWarning: The truth value of an empty array is ambiguous. Returning False, but in future this will result in an error. Use `array.size > 0` to check that an array is not empty.\n",
      "  \n",
      "/opt/anaconda3/lib/python3.7/site-packages/ipykernel_launcher.py:8: DeprecationWarning: The truth value of an empty array is ambiguous. Returning False, but in future this will result in an error. Use `array.size > 0` to check that an array is not empty.\n",
      "  \n"
     ]
    }
   ],
   "source": [
    "#initialize\n",
    "mt = np.zeros((nstep,mt_length), dtype=np.int)\n",
    "affinity = np.zeros((nstep,mt_length))\n",
    "affinity[:] = k_on\n",
    "t = np.zeros(nstep)\n",
    "\n",
    "for i in range(0,nstep-1):\n",
    "    #choose MT lattice site\n",
    "    m = np.random.randint(0,mt_length-1)\n",
    "    #check current possible reactions\n",
    "    if mt[i,m] == 1: #site is occupied\n",
    "        k = [k_fwd, k_bck, 0, k_off]\n",
    "        k_tot = np.sum(k)\n",
    "        nu = [nu_fwd, nu_bck, 0, nu_off]\n",
    "    else: #site is empty\n",
    "        k = [0, 0, k_on, k_off]\n",
    "        k_tot = np.sum(k)\n",
    "        nu = [0, 0, nu_on, 0]\n",
    "        \n",
    "    #run Gillespie\n",
    "    mt[i+1,:],t[i+1] = gillespie(mt[i,:],t[i],m)\n",
    "    affinity[i+1,:] = affinity_update(affinity[i,:],mt[i+1,:])\n",
    "#pause() "
   ]
  },
  {
   "cell_type": "code",
   "execution_count": 10,
   "metadata": {},
   "outputs": [
    {
     "data": {
      "text/plain": [
       "array([0, 0, 0, 0, 0, 0, 0, 0, 0, 0, 0, 0, 0, 0, 0, 0, 0, 0, 0, 0, 0, 0,\n",
       "       0, 0, 0, 0, 0, 0, 0, 0, 0, 0, 0, 0, 0, 0, 0, 0, 0, 0, 0, 0, 0, 0,\n",
       "       0, 0, 0, 0, 0, 0, 0, 0, 0, 0, 0, 0, 0, 0, 0, 0, 0, 0, 0, 0, 0, 0,\n",
       "       0, 0, 0, 0, 0, 0, 0, 0, 0, 0, 0, 0, 0, 0, 0, 0, 0, 0, 0, 0, 0, 0,\n",
       "       0, 0, 0, 0, 0, 0, 0, 0, 0, 0, 0, 0])"
      ]
     },
     "metadata": {},
     "output_type": "display_data"
    }
   ],
   "source": [
    "display(mt[-3,])"
   ]
  },
  {
   "cell_type": "code",
   "execution_count": null,
   "metadata": {},
   "outputs": [],
   "source": []
  }
 ],
 "metadata": {
  "kernelspec": {
   "display_name": "Python 3",
   "language": "python",
   "name": "python3"
  },
  "language_info": {
   "codemirror_mode": {
    "name": "ipython",
    "version": 3
   },
   "file_extension": ".py",
   "mimetype": "text/x-python",
   "name": "python",
   "nbconvert_exporter": "python",
   "pygments_lexer": "ipython3",
   "version": "3.7.6"
  }
 },
 "nbformat": 4,
 "nbformat_minor": 4
}
