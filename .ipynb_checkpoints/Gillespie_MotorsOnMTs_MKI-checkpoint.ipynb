{
 "cells": [
  {
   "cell_type": "markdown",
   "metadata": {},
   "source": [
    "### Gillespie algorithm for simulating kinesin walking on microtubules in vitro\n",
    "MK Iwanski <br>\n",
    "Universiteit Utrecht, Kaptein Lab <br>\n",
    "2020-04-07"
   ]
  },
  {
   "cell_type": "code",
   "execution_count": 1,
   "metadata": {},
   "outputs": [],
   "source": [
    "# imports\n",
    "%matplotlib inline\n",
    "import matplotlib as mpl\n",
    "import matplotlib.pyplot as plt\n",
    "import numpy as np\n",
    "from scipy.spatial import distance\n",
    "from scipy import ndimage\n",
    "import os \n",
    "import datetime as dt\n",
    "import cv2\n",
    "#from skimage import img_as_ubyte\n",
    "#from sklearn.neighbors import NearestNeighbors"
   ]
  },
  {
   "cell_type": "code",
   "execution_count": 2,
   "metadata": {},
   "outputs": [],
   "source": [
    "# function for debugging\n",
    "def pause():\n",
    "    programPause = input('Press <ENTER> to continue.')"
   ]
  },
  {
   "cell_type": "code",
   "execution_count": 3,
   "metadata": {},
   "outputs": [],
   "source": [
    "# parameters\n",
    "mt_length = 1000\n",
    "nstep = 10**5\n",
    "start_num_motors = 0\n",
    "\n",
    "length_tubulin = 8 #nm\n",
    "\n",
    "motor =  'kif1a' #'kif5b' #'other' #this will determine the velocity, landing rate, etc. Set this to anything other than 'kif1a' or 'kif5b' to enter other parameters\n",
    "\n",
    "# options\n",
    "zsave = True #save figs?\n",
    "zcoop = True #simulate cooperative binding? If True, set parameters in 'update affinities of mt sites' below\n",
    "\n",
    "# observables for motor\n",
    "if motor == 'kif1a':\n",
    "    kin_vel = 2000 #nm/s\n",
    "    kin_land_rate = 0.2 #0.2 #/min /um /pM\n",
    "    kin_conc = 500 #pM in assay\n",
    "    kin_run_length = 1000 #nm\n",
    "elif motor == 'kif5b':\n",
    "    kin_vel = 200 #nm/s\n",
    "    kin_land_rate = 2 #0.2 #/min /um /nM\n",
    "    kin_conc = 5 #nM in assay\n",
    "    kin_run_length = 350 #nm\n",
    "else:\n",
    "    kin_vel = input('Enter motor velocity in nm/s: ') #nm/s\n",
    "    try:\n",
    "        kin_vel = float(kin_vel)\n",
    "        print('motor velocity: {0} nm/s'.format(kin_vel))\n",
    "    except ValueError:\n",
    "        print('Please enter a valid number')\n",
    "    kin_land_rate = input('Enter landing rate in /min /um /nM: ') #/min /um /nM\n",
    "    try:\n",
    "        kin_land_rate = float(kin_land_rate)\n",
    "        print('motor landing rate: {0} /min /um /nM'.format(kin_land_rate))\n",
    "    except ValueError:\n",
    "        print('Please enter a valid number')\n",
    "    kin_conc = input('Enter motor concentration in nM: ') #nM in assay\n",
    "    try:\n",
    "        kin_conc = float(kin_conc)\n",
    "        print('motor concentration: {0} nM'.format(kin_conc))\n",
    "    except ValueError:\n",
    "        print('Please enter a valid number')\n",
    "    kin_run_length = input('Enter motor run length in nm: ') #nm\n",
    "    try:\n",
    "        kin_run_length = float(kin_run_length)\n",
    "        print('motor run length: {0} nm'.format(kin_run_length))\n",
    "    except ValueError:\n",
    "        print('Please enter a valid number')\n",
    "\n",
    "#update affinities of mt sites\n",
    "alpha_max = 5*k_on # maximal change in k_on (at site of motor)       \n",
    "decay_time = 100 # falls to 1/e in how much time [ms]\n",
    "decay_dist = 3 # falls to 1/e in how many dimers [dimers]"
   ]
  },
  {
   "cell_type": "code",
   "execution_count": 4,
   "metadata": {},
   "outputs": [
    {
     "name": "stdout",
     "output_type": "stream",
     "text": [
      "k_fwd = 0.2500000 steps per msec\n",
      "k_bck = 0.0000000 steps per msec\n",
      "k_on = 0.0000133 per dimer per msec\n",
      "k_off = 0.0020000 per msec\n"
     ]
    }
   ],
   "source": [
    "#rates of reactions\n",
    "k_fwd = (kin_vel/length_tubulin)/1000 #steps per msec\n",
    "k_bck = 0 #steps per msec\n",
    "k_on = ((kin_land_rate*kin_conc/60)/(1000/length_tubulin))/1000 #per dimer per msec \n",
    "k_off = (kin_vel/kin_run_length)/1000 #per msec\n",
    "\n",
    "#update vectors for each reaction\n",
    "nu_fwd = -1\n",
    "nu_bck = -1\n",
    "nu_on = 1\n",
    "nu_off = -1\n",
    "\n",
    "print('k_fwd = {0:.7f} steps per msec'.format(k_fwd))\n",
    "print('k_bck = {0:.7f} steps per msec'.format(k_bck))\n",
    "print('k_on = {0:.7f} per dimer per msec'.format(k_on))\n",
    "print('k_off = {0:.7f} per msec'.format(k_off))"
   ]
  },
  {
   "cell_type": "code",
   "execution_count": 5,
   "metadata": {},
   "outputs": [],
   "source": [
    "def gillespie(X, t, k, nu): #update time and state (mt) vectors \n",
    "    \n",
    "    #generate random numbers\n",
    "    #m = np.random.randint(0,mt_length) #for lattice site\n",
    "    rt = np.random.random() #for time to next reaction\n",
    "    rr = np.random.random() #for type of reaction\n",
    "    \n",
    "    k_tot = np.sum(k)\n",
    "    \n",
    "    #time to next reaction\n",
    "    tau = np.log(1/rt)/k_tot\n",
    "    #We assume affinity does not change significantly during this time step.\n",
    "      \n",
    "    m = np.random.randint(0,mt_length) #which lattice site to start with\n",
    "    \n",
    "    #determine which reaction\n",
    "    j = 0\n",
    "    test = k[0,m]/k_tot\n",
    "    while test<rr: #and j<len(k[:,m])-1:  \n",
    "        j += 1 \n",
    "        \n",
    "        if j >= len(k[:,m]): #if nothing happened at the present site, continue on to next site\n",
    "            m += 1 \n",
    "            if m >= mt_length: #if reached end of MT, start from beginning\n",
    "                m = 0\n",
    "            j = 0\n",
    "           \n",
    "        test += k[j,m]/k_tot\n",
    "\n",
    "    t += tau #update time\n",
    "    X[m] += nu[j] #update state\n",
    "    if j == 0:\n",
    "        X[m+1] -= nu[j] #update state of +1 site for forward step\n",
    "    if j == 1:\n",
    "        X[m-1] -= nu[j] #update state of -1 site for back step\n",
    "  \n",
    "    return X, t"
   ]
  },
  {
   "cell_type": "code",
   "execution_count": 6,
   "metadata": {},
   "outputs": [],
   "source": [
    "def find_closest_motor(lattice_site, motors):\n",
    "    assert isinstance(lattice_site,int)\n",
    "    \n",
    "    motors = np.asarray(motors)\n",
    "    idx = (np.abs(motors - lattice_site)).argmin()\n",
    "    return motors[0,idx] "
   ]
  },
  {
   "cell_type": "code",
   "execution_count": 7,
   "metadata": {},
   "outputs": [],
   "source": [
    "def affinity_update(aff, X, t_step): #update affinity based on motor positions\n",
    "    \n",
    "    decay_aff = aff*np.exp(-t_step/decay_time) #affinities decay with time (back to baseline) \n",
    "    #print('aff = {0}, decay_aff = {1}'.format(aff, decay_aff))\n",
    "    #pause()\n",
    "    \n",
    "    motor_aff = np.zeros(aff.shape,dtype='float')\n",
    "    motor_aff[:] = k_on\n",
    "    \n",
    "    motors = np.asarray(np.where(X==1), dtype=np.int)\n",
    "    motors.flatten()\n",
    "\n",
    "    if motors.size != 0:\n",
    "        motor_aff[X==1] = alpha_max #affinity at motor positions increase to max value\n",
    "        for j in range(0,mt_length):\n",
    "            #for each lattice site, find closest motor\n",
    "            closest_motor = find_closest_motor(j,motors)\n",
    "            distance_from_site = int(np.abs(closest_motor-j))\n",
    "            \n",
    "            motor_aff[j] = alpha_max*np.exp(-distance_from_site/decay_dist) #update affinity based on closest motor\n",
    "\n",
    "            \n",
    "    new_aff = np.zeros(aff.shape,dtype='float')    \n",
    "    for j in range(0,mt_length):\n",
    "        if motor_aff[j] > decay_aff[j]:\n",
    "            new_aff[j] = motor_aff[j]\n",
    "        else:\n",
    "            new_aff[j] = decay_aff[j]\n",
    "\n",
    "    \n",
    "    new_aff[new_aff<k_on] = k_on #set back to baseline if below\n",
    "    new_aff[new_aff>alpha_max] = alpha_max #set back to max if above\n",
    "    \n",
    "    return new_aff"
   ]
  },
  {
   "cell_type": "code",
   "execution_count": 8,
   "metadata": {},
   "outputs": [],
   "source": [
    "#initialize\n",
    "mt = np.zeros((nstep,mt_length), dtype=np.int)\n",
    "affinity = np.zeros((nstep,mt_length))\n",
    "affinity[:] = k_on\n",
    "t = np.zeros(nstep)\n",
    "\n",
    "k = np.zeros((4,mt_length),dtype=np.float)\n",
    "nu = [nu_fwd, nu_bck, nu_on, nu_off]\n",
    "\n",
    "#place motor(s) on MT to begin\n",
    "if start_num_motors != 0:\n",
    "    for i in range(0,start_num_motors):\n",
    "        mt[0,np.random.randint(0,mt_length)] = 1"
   ]
  },
  {
   "cell_type": "code",
   "execution_count": null,
   "metadata": {},
   "outputs": [],
   "source": [
    "#run Gillespie\n",
    "for i in range(0,nstep-1):\n",
    "    \n",
    "    #k = np.zeros((4,mt_length),dtype=np.float)\n",
    "    \n",
    "    #update reaction matrix \n",
    "    for j in range(0,mt_length):\n",
    "        if mt[i,j] == 1: #site is occupied\n",
    "            k[2,j] = 0\n",
    "            k[3,j] = k_off\n",
    "            if (j != mt_length-1 and mt[i,j+1] == 0): #site in front empty\n",
    "                #k[:,j] = [k_fwd, k_bck, 0, k_off]\n",
    "                #nu = [nu_fwd, nu_bck, 0, nu_off]\n",
    "                k[0,j] = k_fwd\n",
    "            else:\n",
    "                k[0,j] = 0\n",
    "            if (j != 0 and mt[i,j-1] == 0): #site behind empty\n",
    "                #k[:,j] = [0, k_bck, 0, k_off]\n",
    "                #nu = [0, nu_bck, 0, nu_off]\n",
    "                k[1,j] = k_bck\n",
    "            else:\n",
    "                k[1,j] = 0\n",
    "        else: #site is empty\n",
    "            k[0,j] = 0\n",
    "            k[1,j] = 0\n",
    "            k[2,j] = affinity[i,j]\n",
    "            k[3,j] = 0\n",
    "    \n",
    "    mt[i+1,:],t[i+1] = gillespie(mt[i,:],t[i],k,nu)\n",
    "    \n",
    "    if zcoop == True:\n",
    "        affinity[i+1,:] = affinity_update(affinity[i,:],mt[i+1,:],(t[i+1]-t[i])) #future update of affinity\n",
    "\n",
    "#pause() \n",
    "\n",
    "print('The average time step was {0:.5f} sec'. format(np.mean(np.diff(t))/1000))\n",
    "print('The total time was {0:.5f} min'. format((t[-1]/60)/1000))"
   ]
  },
  {
   "cell_type": "code",
   "execution_count": 81,
   "metadata": {},
   "outputs": [
    {
     "data": {
      "image/png": "[encoded data removed]",
      "text/plain": [
       "<Figure size 1800x216 with 3 Axes>"
      ]
     },
     "metadata": {
      "needs_background": "light"
     },
     "output_type": "display_data"
    }
   ],
   "source": [
    "# plot results\n",
    "%matplotlib inline\n",
    "fig, ax = plt.subplots(1,2, figsize=(25, 100)) #25x30 for 100 dimers, 10^3 steps; 25x3 for 1000 dimers, 10^3 steps; 25x100 for 1000 dimers, 10^5 steps\n",
    "\n",
    "ax[0].imshow(mt, cmap='viridis', aspect='auto', interpolation='nearest',clim=(k_on,alpha_max))\n",
    "ax[0].set_title(\"Motors on microtubule\", fontsize=12)\n",
    "ax[0].set_ylabel(\"Time step\", fontsize=12)\n",
    "ax[0].set_xlabel(\"Position on microtubule\", fontsize=12)\n",
    "#pcm = ax[1].pcolormesh(mt,norm = mpl.colors.Normalize(vmin=k_on,vmax=alpha_max),cmap='viridis')\n",
    "\n",
    "ax[1].imshow(affinity, cmap='viridis', aspect='auto', interpolation='nearest',clim=(k_on,alpha_max))\n",
    "ax[1].set_title(\"Affinity of lattice sites\", fontsize=12)\n",
    "ax[1].set_ylabel(\"Time step\", fontsize=12)\n",
    "ax[1].set_xlabel(\"Position on microtubule\", fontsize=12)\n",
    "pcm = ax[1].pcolormesh(affinity,norm = mpl.colors.Normalize(vmin=k_on,vmax=alpha_max),cmap='viridis')\n",
    "fig.colorbar(pcm, ax=ax[1])\n",
    "\n",
    "plt.tight_layout()\n",
    "\n",
    "# save fig\n",
    "if zsave == True:\n",
    "    script_dir = os.path.abspath('..') #os.path.dirname('..')\n",
    "    results_dir = os.path.join(script_dir, 'Results/')\n",
    "    file_name = 'Simulation_{}.png'.format(dt.datetime.now().strftime('%Y%m%d%H%M%S'))\n",
    "    if not os.path.isdir(results_dir):    \n",
    "        os.makedirs(results_dir)\n",
    "    plt.savefig(results_dir + file_name,dpi=130)\n",
    "\n",
    "plt.show()"
   ]
  },
  {
   "cell_type": "code",
   "execution_count": 69,
   "metadata": {},
   "outputs": [],
   "source": [
    "#reformat to create an image from each time point\n",
    "mt_as_stack = np.reshape(mt,(mt.shape[0],mt.shape[1],1))\n",
    "mt_as_stack = np.moveaxis(mt_as_stack,1,-1) #t,y,x\n",
    "\n",
    "padded_height = 7 #ideally an odd number\n",
    "zero_row = np.zeros((1,mt.shape[1]),dtype=float)\n",
    "mid_row = int(np.floor(padded_height/2))\n",
    "padded_stack = np.zeros((mt.shape[0],padded_height,mt.shape[1]),dtype=float)\n",
    "\n",
    "for i in range(mt.shape[0]):\n",
    "    padded_stack[i,mid_row,:]=mt[i,]\n",
    "    padded_stack[i,]=ndimage.gaussian_filter(padded_stack[i,], sigma=1)\n",
    "    \n",
    "padded_stack = padded_stack.astype(np.float64) / np.amax(padded_stack) # normalize the data to 0 - 1\n",
    "padded_stack = 255 * padded_stack # scale by 255\n"
   ]
  },
  {
   "cell_type": "code",
   "execution_count": 70,
   "metadata": {},
   "outputs": [
    {
     "data": {
      "image/png": "[encoded data removed]",
      "text/plain": [
       "<Figure size 1296x144 with 1 Axes>"
      ]
     },
     "metadata": {
      "needs_background": "light"
     },
     "output_type": "display_data"
    }
   ],
   "source": [
    "#check reformatting is working by plotting a random frame\n",
    "%matplotlib inline\n",
    "fig, ax = plt.subplots(1,1, figsize=(18, 2))\n",
    "\n",
    "ax.imshow(padded_stack[np.random.randint(0,nstep),], cmap='gray', interpolation='nearest')\n",
    "ax.set_title(\"Motors on microtubule\", fontsize=12)\n",
    "ax.axes.get_yaxis().set_visible(False)\n",
    "ax.set_xlabel(\"x\", fontsize=12)\n",
    "\n",
    "plt.tight_layout()\n",
    "plt.show()"
   ]
  },
  {
   "cell_type": "code",
   "execution_count": 41,
   "metadata": {},
   "outputs": [],
   "source": [
    "#save a movie of the simulation\n",
    "if zsave == True:\n",
    "    fps = 1000\n",
    "    img_array = []\n",
    "\n",
    "    script_dir = os.path.abspath('..') #os.path.dirname('..')\n",
    "    results_dir = os.path.join(script_dir, 'Results/')\n",
    "    file_name = 'Simulation_movie_{}.avi'.format(dt.datetime.now().strftime('%Y%m%d%H%M%S'))\n",
    "    if not os.path.isdir(results_dir):    \n",
    "        os.makedirs(results_dir)\n",
    "\n",
    "    for i in range(mt.shape[0]):\n",
    "        img = padded_stack[i,].astype(np.uint8)\n",
    "        height, width = img.shape\n",
    "        size = (width,height)\n",
    "        img_array.append(img)\n",
    "\n",
    "    out = cv2.VideoWriter(results_dir + file_name,cv2.VideoWriter_fourcc(*'M','J','P','G'), fps, size, False) #'DIVX'\n",
    "\n",
    "    for i in range(len(img_array)):\n",
    "        out.write(img_array[i])\n",
    "    out.release()"
   ]
  },
  {
   "cell_type": "markdown",
   "metadata": {},
   "source": [
    "### TO DO:\n",
    "* Adjust parameters to make physiological\n",
    "* Fix affinity decay with time\n",
    "* Run simulation with time steps as above, but sample at 100ms frame rate\n",
    "* Currently updating affinity for the future based on past time step\n"
   ]
  },
  {
   "cell_type": "code",
   "execution_count": null,
   "metadata": {},
   "outputs": [],
   "source": []
  }
 ],
 "metadata": {
  "kernelspec": {
   "display_name": "Python 3",
   "language": "python",
   "name": "python3"
  },
  "language_info": {
   "codemirror_mode": {
    "name": "ipython",
    "version": 3
   },
   "file_extension": ".py",
   "mimetype": "text/x-python",
   "name": "python",
   "nbconvert_exporter": "python",
   "pygments_lexer": "ipython3",
   "version": "3.7.6"
  }
 },
 "nbformat": 4,
 "nbformat_minor": 4
}
