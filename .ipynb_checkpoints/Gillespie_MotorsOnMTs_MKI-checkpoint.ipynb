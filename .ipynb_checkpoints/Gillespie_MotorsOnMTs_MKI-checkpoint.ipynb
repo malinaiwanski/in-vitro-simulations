{
 "cells": [
  {
   "cell_type": "markdown",
   "metadata": {},
   "source": [
    "### Gillespie algorithm for simulating kinesin walking on microtubules in vitro\n",
    "MK Iwanski 2020-04-07"
   ]
  },
  {
   "cell_type": "code",
   "execution_count": 1,
   "metadata": {},
   "outputs": [],
   "source": [
    "# imports\n",
    "%matplotlib inline\n",
    "import matplotlib.pyplot as plt\n",
    "import numpy as np\n",
    "from scipy.spatial import distance\n",
    "import os.path as os"
   ]
  },
  {
   "cell_type": "code",
   "execution_count": 2,
   "metadata": {},
   "outputs": [],
   "source": [
    "# function for debugging\n",
    "def pause():\n",
    "    programPause = input('Press <ENTER> to continue.')"
   ]
  },
  {
   "cell_type": "code",
   "execution_count": 37,
   "metadata": {},
   "outputs": [],
   "source": [
    "# parameters\n",
    "mt_length = 100\n",
    "nstep = 10**4\n",
    "\n",
    "#rates of reactions\n",
    "k_fwd = 0.1 #steps per sec\n",
    "k_bck = 0 #steps per sec\n",
    "k_on = 0.00002 #per dimer per sec\n",
    "k_off = 0.005 #per sec\n",
    "\n",
    "#update vectors for each reaction\n",
    "nu_fwd = -1\n",
    "nu_bck = -1\n",
    "nu_on = 1\n",
    "nu_off = -1\n",
    "\n",
    "#update affinities of mt sites\n",
    "alpha_max = 0.00003 #maximal change in k_on (at site of motor)\n",
    "decay_lambda = 10**(100) # 1/(falls to 1/e in how much time) [sec]\n",
    "decay_dist = 1 #falls to 1/e in how many dimers [dimers]\n",
    "#TO DO: assume this drops exponentially with number of sites away from motor and with time"
   ]
  },
  {
   "cell_type": "code",
   "execution_count": 38,
   "metadata": {},
   "outputs": [],
   "source": [
    "def gillespie(X, t, m): #update time and state vectors (mt and affinity at site m)\n",
    "   \n",
    "    #generate random numbers\n",
    "    rt = np.random.random()\n",
    "    rr = np.random.random()\n",
    "    \n",
    "    #time to next reaction\n",
    "    tau = np.log(1/rt)/k_tot\n",
    "    \n",
    "    #determine which reaction\n",
    "    j = 0\n",
    "    test = k[0]/k_tot\n",
    "    while test<rr and j<len(k):#-1:\n",
    "        j += 1\n",
    "        test += k[j]/k_tot\n",
    "\n",
    "    #pause()\n",
    "    \n",
    "    t += tau #update time\n",
    "    X[m] += nu[j] #update state\n",
    "    if j == 0:\n",
    "        if m < mt_length-1 and X[m+1] == 0:\n",
    "            X[m+1] -= nu[j] #update state of +1 site for forward step\n",
    "        #if it can't move forward, don't do anything\n",
    "    if j == 1:\n",
    "        if m >  0 and X[m-1] == 0:\n",
    "             X[m-1] -= nu[j] #update state of -1 site for back step\n",
    "        #if it can't move backward, don't do anything\n",
    "    \n",
    "    return X, t"
   ]
  },
  {
   "cell_type": "code",
   "execution_count": 39,
   "metadata": {},
   "outputs": [],
   "source": [
    "def find_closest_motor(lattice_site, motors):\n",
    "    assert isinstance(lattice_site,int)\n",
    "    \n",
    "    motors = np.asarray(motors)\n",
    "    idx = (np.abs(motors - lattice_site)).argmin()\n",
    "    return motors[0,idx] \n",
    "    #pause()\n",
    "    \n",
    "    #idx = 0\n",
    "    #min_dist = abs(lattice_site-motors[idx])\n",
    "    #for k in range(0,motors.shape[1]):\n",
    "    #    motor = motors[0,k] #int(motors[0,k])\n",
    "    #    #pause()\n",
    "        \n",
    "    #    distance = abs(lattice_site-motor)\n",
    "    #    if distance < min_dist:\n",
    "    #        idx = motor\n",
    "    #        min_dist = distance\n",
    "    ##idx = distance.cdist([lattice_site], motors).argmin()\n",
    "    #return motors[0,idx]"
   ]
  },
  {
   "cell_type": "code",
   "execution_count": 40,
   "metadata": {},
   "outputs": [],
   "source": [
    "def affinity_update(aff, X, t_step): #update affinity based on motor positions\n",
    "    decay_aff = aff*np.exp(-decay_lambda*t_step) #affinities decay with time (back to baseline)\n",
    "    \n",
    "    #aff = aff*np.exp(-t_step) #affinities decay with time back to baseline\n",
    "    \n",
    "    aff[X==1] = alpha_max #affinity at motor positions increase to max value\n",
    "    \n",
    "    motors = np.asarray(np.where(X==1), dtype=np.int)\n",
    "    motors.flatten()\n",
    "    \n",
    "    #for k in range(0,motors.shape[1]):\n",
    "    #    motor_loc = motors[0,k]\n",
    "    #    #pause()\n",
    "    #    for j in range(0,mt_length):\n",
    "    #        if (motor_loc+j)<(mt_length-1):\n",
    "    #            aff[motor_loc+j] += alpha_max*np.exp(-j)\n",
    "    #        if (motor_loc-j)>=0:\n",
    "    #            aff[motor_loc-j] += alpha_max*np.exp(-j)\n",
    "    #    #TO DO: How to deal with overlapping effects...?\n",
    "\n",
    "    #pause()\n",
    "    if motors.size != 0:\n",
    "        for j in range(0,mt_length):\n",
    "            #for each lattice site, find closest motor\n",
    "            closest_motor = find_closest_motor(j,motors)\n",
    "            distance_from_site = int(np.abs(closest_motor-j))\n",
    "\n",
    "            aff[j] += alpha_max*np.exp(-distance_from_site/decay_dist) #update affinity based on closest motor\n",
    "    \n",
    "    for j in range(0,mt_length):\n",
    "        if aff[j] < decay_aff[j]:\n",
    "            aff[j] = decay_aff[j]\n",
    "    \n",
    "    aff[aff<k_on] = k_on #set back to baseline if below\n",
    "    aff[aff>alpha_max] = alpha_max\n",
    "    \n",
    "    return aff"
   ]
  },
  {
   "cell_type": "code",
   "execution_count": 41,
   "metadata": {},
   "outputs": [],
   "source": [
    "#initialize\n",
    "mt = np.zeros((nstep,mt_length), dtype=np.int)\n",
    "affinity = np.zeros((nstep,mt_length))\n",
    "affinity[:] = k_on\n",
    "t = np.zeros(nstep)\n",
    "\n",
    "#place motor(s) on MT to begin\n",
    "for i in range(0,1):\n",
    "    mt[0,np.random.randint(0,mt_length)] = 1"
   ]
  },
  {
   "cell_type": "code",
   "execution_count": 42,
   "metadata": {},
   "outputs": [],
   "source": [
    "#run Gillespie\n",
    "for i in range(0,nstep-1):\n",
    "    #choose MT lattice site\n",
    "    m = np.random.randint(0,mt_length)\n",
    "    #check current possible reactions\n",
    "    if mt[i,m] == 1: #site is occupied\n",
    "        k = [k_fwd, k_bck, 0, k_off]\n",
    "        k_tot = np.sum(k)\n",
    "        nu = [nu_fwd, nu_bck, 0, nu_off]\n",
    "    else: #site is empty\n",
    "        k = [0, 0, affinity[i,m], k_off] #k = [0, 0, k_on, k_off]\n",
    "        k_tot = np.sum(k)\n",
    "        nu = [0, 0, nu_on, 0]\n",
    "        \n",
    "    mt[i+1,:],t[i+1] = gillespie(mt[i,:],t[i],m)\n",
    "    affinity[i+1,:] = affinity_update(affinity[i,:],mt[i+1,:],(t[i+1]-t[i]))\n",
    "#pause() "
   ]
  },
  {
   "cell_type": "code",
   "execution_count": 43,
   "metadata": {},
   "outputs": [
    {
     "data": {
      "image/png": "[encoded data removed]",
      "text/plain": [
       "<Figure size 1080x2160 with 2 Axes>"
      ]
     },
     "metadata": {
      "needs_background": "light"
     },
     "output_type": "display_data"
    }
   ],
   "source": [
    "# plot results\n",
    "fig, ax = plt.subplots(1,2, figsize=(15, 30))\n",
    "\n",
    "ax[0].imshow(mt, cmap='viridis', aspect='auto', interpolation='nearest')\n",
    "ax[0].set_title(\"Motors on microtubule\", fontsize=12)\n",
    "ax[0].set_ylabel(\"Time step\", fontsize=12)\n",
    "ax[0].set_xlabel(\"Position on microtubule\", fontsize=12)\n",
    "\n",
    "ax[1].imshow(affinity, cmap='viridis', aspect='auto', interpolation='nearest')\n",
    "ax[1].set_title(\"Affinity of lattice sites\", fontsize=12)\n",
    "ax[1].set_ylabel(\"Time step\", fontsize=12)\n",
    "ax[1].set_xlabel(\"Position on microtubule\", fontsize=12)\n",
    "\n",
    "plt.show()"
   ]
  },
  {
   "cell_type": "code",
   "execution_count": null,
   "metadata": {},
   "outputs": [],
   "source": [
    "# save figs\n",
    "save_dir = 'OneDrive - Universiteit Utrecht/Python/Temp_Figures/'\n",
    "save_fname = 'Simulation_2020-04-07.png'\n",
    "save_path = os.join(save_dir,save_fname)\n",
    "plt.savefig(save_fname,format='png')"
   ]
  }
 ],
 "metadata": {
  "kernelspec": {
   "display_name": "Python 3",
   "language": "python",
   "name": "python3"
  },
  "language_info": {
   "codemirror_mode": {
    "name": "ipython",
    "version": 3
   },
   "file_extension": ".py",
   "mimetype": "text/x-python",
   "name": "python",
   "nbconvert_exporter": "python",
   "pygments_lexer": "ipython3",
   "version": "3.7.6"
  }
 },
 "nbformat": 4,
 "nbformat_minor": 4
}
